{
 "cells": [
  {
   "cell_type": "code",
   "execution_count": null,
   "id": "34ae47ce",
   "metadata": {},
   "outputs": [],
   "source": [
    "import os\n",
    "\n",
    "from PIL import Image\n",
    "from torchvision import transforms\n",
    "import numpy as np"
   ]
  },
  {
   "cell_type": "code",
   "execution_count": 2,
   "id": "a22d90f2",
   "metadata": {},
   "outputs": [],
   "source": [
    "transform = transforms.Compose([\n",
    "    transforms.Resize((6,6)),\n",
    "    transforms.ToTensor(),\n",
    "])"
   ]
  },
  {
   "cell_type": "code",
   "execution_count": 3,
   "id": "1ce6c059",
   "metadata": {},
   "outputs": [],
   "source": [
    "images = [Image.open(os.path.join('samples', f'{i}.png')) for i in range(10)]"
   ]
  },
  {
   "cell_type": "code",
   "execution_count": 4,
   "id": "1c1a775b",
   "metadata": {},
   "outputs": [],
   "source": [
    "# load model parameters for cpu\n",
    "\n",
    "model = np.load('../quantized_model_brevitas.npz')\n",
    "\n",
    "W1_q = model['W1_q']\n",
    "b1_q = model['b1_q']\n",
    "M_fc1 = model['M_fc1']\n",
    "S_fc1 = model['S_fc1']\n",
    "scale_fc1_in = model['scale_fc1_in']\n",
    "\n",
    "W2_q = model['W2_q']\n",
    "b2_q = model['b2_q']\n",
    "M_fc2 = model['M_fc2']\n",
    "S_fc2 = model['S_fc2']"
   ]
  },
  {
   "cell_type": "code",
   "execution_count": null,
   "id": "74494a0a",
   "metadata": {},
   "outputs": [],
   "source": [
    "def int8_matvec(W_q: np.ndarray, a_q: np.ndarray, bias_q: np.ndarray):\n",
    "    acc = W_q.astype(np.int32).dot(a_q.astype(np.int32))\n",
    "    if bias_q is not None:\n",
    "        acc = acc + bias_q.astype(np.int32)\n",
    "    return acc\n",
    "\n",
    "def requantize_accumulator(acc: np.ndarray, M: np.ndarray, S: np.ndarray, out_dtype=np.int8):\n",
    "    acc64 = acc.astype(np.int64) * M.astype(np.int64)\n",
    "    res = (acc64 >> S.astype(np.int64)).astype(out_dtype)\n",
    "    return res\n",
    "\n",
    "def quantize_input_image(x):\n",
    "    x_flat = (x.flatten() / scale_fc1_in)\n",
    "    x_q = np.round(x_flat).astype(np.int8)\n",
    "    return x_q\n",
    "\n",
    "def inference_numpy_cpu(x):\n",
    "    x_q = quantize_input_image(x)\n",
    "    a0 = x_q.astype(np.int32)\n",
    "    acc1 = int8_matvec(W1_q, a0, b1_q)\n",
    "    r1 = requantize_accumulator(acc1, M_fc1, S_fc1, out_dtype=np.int8)\n",
    "    r1 = r1.astype(np.int32)\n",
    "    r1[r1 < 0] = 0\n",
    "    acc2 = int8_matvec(W2_q, r1.astype(np.int8), b2_q)\n",
    "    acc2_shared = requantize_accumulator(acc2, M_fc2, S_fc2, out_dtype=np.int32)\n",
    "    print(acc2_shared)\n",
    "    pred = int(np.argmax(acc2_shared))\n",
    "    return pred\n",
    "\n",
    "def inference_cpu(x):\n",
    "    x = transform(x).numpy()\n",
    "    return inference_numpy_cpu(x)"
   ]
  },
  {
   "cell_type": "code",
   "execution_count": null,
   "id": "37d86d2c",
   "metadata": {},
   "outputs": [
    {
     "ename": "ModuleNotFoundError",
     "evalue": "No module named 'pynq'",
     "output_type": "error",
     "traceback": [
      "\u001b[0;31m---------------------------------------------------------------------------\u001b[0m",
      "\u001b[0;31mModuleNotFoundError\u001b[0m                       Traceback (most recent call last)",
      "Cell \u001b[0;32mIn[33], line 1\u001b[0m\n\u001b[0;32m----> 1\u001b[0m \u001b[38;5;28;01mfrom\u001b[39;00m\u001b[38;5;250m \u001b[39m\u001b[38;5;21;01mpynq\u001b[39;00m\u001b[38;5;250m \u001b[39m\u001b[38;5;28;01mimport\u001b[39;00m Overlay, GPIO\n\u001b[1;32m      3\u001b[0m ps_gpio_design \u001b[38;5;241m=\u001b[39m Overlay(\u001b[38;5;124m\"\u001b[39m\u001b[38;5;124m./design_1.bit\u001b[39m\u001b[38;5;124m\"\u001b[39m)\n\u001b[1;32m      5\u001b[0m READ_ADDR  \u001b[38;5;241m=\u001b[39m \u001b[38;5;241m34\u001b[39m\n",
      "\u001b[0;31mModuleNotFoundError\u001b[0m: No module named 'pynq'"
     ]
    }
   ],
   "source": [
    "from pynq import Overlay, GPIO\n",
    "\n",
    "ps_gpio_design = Overlay(\"./design_1.bit\")\n",
    "\n",
    "READ_ADDR  = 34\n",
    "WRITE_ADDR = 18\n",
    "DATA       = 10\n",
    "VALID      =  9\n",
    "RESULT     =  5\n",
    "DONE       =  4\n",
    "MAGIC      =  0"
   ]
  },
  {
   "cell_type": "code",
   "execution_count": 34,
   "id": "27057a3e",
   "metadata": {},
   "outputs": [
    {
     "ename": "NameError",
     "evalue": "name 'MAGIC' is not defined",
     "output_type": "error",
     "traceback": [
      "\u001b[0;31m---------------------------------------------------------------------------\u001b[0m",
      "\u001b[0;31mNameError\u001b[0m                                 Traceback (most recent call last)",
      "Cell \u001b[0;32mIn[34], line 4\u001b[0m\n\u001b[1;32m      1\u001b[0m gpios \u001b[38;5;241m=\u001b[39m []\n\u001b[1;32m      3\u001b[0m \u001b[38;5;66;03m# magic\u001b[39;00m\n\u001b[0;32m----> 4\u001b[0m \u001b[38;5;28;01mfor\u001b[39;00m i \u001b[38;5;129;01min\u001b[39;00m \u001b[38;5;28mrange\u001b[39m(\u001b[43mMAGIC\u001b[49m,DONE):\n\u001b[1;32m      5\u001b[0m     gpios\u001b[38;5;241m.\u001b[39mappend(GPIO(GPIO\u001b[38;5;241m.\u001b[39mget_gpio_pin(i), \u001b[38;5;124m'\u001b[39m\u001b[38;5;124mout\u001b[39m\u001b[38;5;124m'\u001b[39m))\n\u001b[1;32m      7\u001b[0m \u001b[38;5;66;03m# done\u001b[39;00m\n",
      "\u001b[0;31mNameError\u001b[0m: name 'MAGIC' is not defined"
     ]
    }
   ],
   "source": [
    "gpios = []\n",
    "\n",
    "# magic\n",
    "for i in range(MAGIC,DONE):\n",
    "    gpios.append(GPIO(GPIO.get_gpio_pin(i), 'out'))\n",
    "\n",
    "# done\n",
    "for i in range(DONE,RESULT):\n",
    "    gpios.append(GPIO(GPIO.get_gpio_pin(i), 'out'))\n",
    "\n",
    "# result\n",
    "for i in range(RESULT,DATA):\n",
    "    gpios.append(GPIO(GPIO.get_gpio_pin(i), 'out'))\n",
    "\n",
    "# data\n",
    "for i in range(DATA, WRITE_ADDR):\n",
    "    gpios.append(GPIO(GPIO.get_gpio_pin(i), 'in'))\n",
    "\n",
    "# write addr\n",
    "for i in range(WRITE_ADDR, READ_ADDR):\n",
    "    gpios.append(GPIO(GPIO.get_gpio_pin(i), 'in'))\n",
    "\n",
    "# read addr\n",
    "for i in range(READ_ADDR, 50):\n",
    "    gpios.append(GPIO(GPIO.get_gpio_pin(i), 'out'))\n",
    "\n",
    "def read_bit(off):\n",
    "    return gpios[off].read()\n",
    "\n",
    "def write_bit(off, val):\n",
    "    return gpios[off].write(val)\n",
    "\n",
    "def read_uint(off, size):\n",
    "    val = 0\n",
    "    for i in range(size):\n",
    "        val |= read_bit(off + i) << i\n",
    "    return val\n",
    "\n",
    "def write_int(off, size, val):\n",
    "    for i in range(size):\n",
    "        gpios[i].write(val & (1 << i))\n",
    "\n",
    "def read_magic():\n",
    "    return read_uint(MAGIC, DONE - MAGIC)\n",
    "\n",
    "def read_done():\n",
    "    return read_bit(DONE)\n",
    "\n",
    "def read_result():\n",
    "    return read_uint(RESULT, VALID - RESULT)\n",
    "\n",
    "def write_valid(val):\n",
    "    write_bit(VALID, val)\n",
    "\n",
    "def write_data(val):\n",
    "    write_int(DATA, WRITE_ADDR - DATA, val)\n",
    "    \n",
    "def write_addr(val):\n",
    "    write_int(WRITE_ADDR, READ_ADDR - WRITE_ADDR, val)\n",
    "\n",
    "def read_addr():\n",
    "    return read_uint(READ_ADDR, 50 - READ_ADDR)\n",
    "\n",
    "def load_input(x):\n",
    "    # wait until PL requests first input\n",
    "    while read_addr(i) != 0: pass\n",
    "    write_valid(1)\n",
    "\n",
    "    for i, xi in enumerate(x):\n",
    "        write_addr(i)\n",
    "        write_data(xi)\n",
    "        # wait until PL can read next input\n",
    "        while read_addr(i) != i + 1: pass\n",
    "    write_valid(0)\n",
    "\n",
    "def inference_fpga(x):\n",
    "    x = transform(x).numpy()\n",
    "\n",
    "    # quantize input on CPU (float32 -> int8)\n",
    "    x = quantize_input_image(x)\n",
    "\n",
    "    # load the input into the PL\n",
    "    load_input(x)\n",
    "\n",
    "    print(\"Loaded the input.\")\n",
    "\n",
    "    # wait done\n",
    "    while read_done() == 0: pass\n",
    "    return read_result()\n",
    "\n",
    "print(f'The magic number is {read_magic()}')"
   ]
  },
  {
   "cell_type": "code",
   "execution_count": null,
   "id": "87ecb43d",
   "metadata": {},
   "outputs": [
    {
     "data": {
      "image/jpeg": "[encoded data removed]",
      "image/png": "[encoded data removed]",
      "text/plain": [
       "<PIL.PngImagePlugin.PngImageFile image mode=L size=28x28>"
      ]
     },
     "execution_count": 32,
     "metadata": {},
     "output_type": "execute_result"
    }
   ],
   "source": [
    "images[0]"
   ]
  },
  {
   "cell_type": "code",
   "execution_count": null,
   "id": "9fee8598",
   "metadata": {},
   "outputs": [
    {
     "name": "stdout",
     "output_type": "stream",
     "text": [
      "\n",
      "[  8411 -17183   1979   1584  -3652   1834   2896   -484   1638   1661]\n"
     ]
    },
    {
     "data": {
      "text/plain": [
       "0"
      ]
     },
     "execution_count": 31,
     "metadata": {},
     "output_type": "execute_result"
    }
   ],
   "source": [
    "inference_cpu(images[0])"
   ]
  },
  {
   "cell_type": "code",
   "execution_count": null,
   "id": "abd5438a",
   "metadata": {},
   "outputs": [],
   "source": [
    "inference_fpga(images[0])"
   ]
  }
 ],
 "metadata": {
  "kernelspec": {
   "display_name": "nnlab",
   "language": "python",
   "name": "python3"
  },
  "language_info": {
   "codemirror_mode": {
    "name": "ipython",
    "version": 3
   },
   "file_extension": ".py",
   "mimetype": "text/x-python",
   "name": "python",
   "nbconvert_exporter": "python",
   "pygments_lexer": "ipython3",
   "version": "3.9.20"
  }
 },
 "nbformat": 4,
 "nbformat_minor": 5
}
